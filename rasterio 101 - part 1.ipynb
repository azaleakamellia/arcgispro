{
 "cells": [
  {
   "cell_type": "markdown",
   "id": "25ed9cf5",
   "metadata": {},
   "source": [
    "# rasterio 101: part 1 "
   ]
  },
  {
   "cell_type": "markdown",
   "id": "012dc1c9",
   "metadata": {},
   "source": [
    "The `rasterio` is a Python standard for the raster data library that expresses GDAL's data using fewer non-idiomatic extension classes and more idiomatic Python types and protocols while maintaining GDAL's Python binding speed. \n",
    "\n",
    "For this study, we will be using a clipped Sentinel-2 image with 11 bands which started at band 2. So, following the Sentinel-2 image band sequences respectively, it starts with band 2; Blue band, band 3; Green band and so forth to the 11th band. \n",
    "\n",
    "References:\n",
    "- [rasterio: Python Quickstart]('https://rasterio.readthedocs.io/en/latest/quickstart.html')\n",
    "- [AutoGIS: Reading raster files with Rasterio]('https://autogis-site.readthedocs.io/en/latest/notebooks/Raster/reading-raster.html')\n",
    "- [Geo-Python 2021]('https://geo-python-site.readthedocs.io/en/latest/')\n",
    "- [Pyton Basics: List Comprehensions, Dictionary Comprehensions and Generator Expressions]('https://www.netguru.com/blog/python-list-comprehension-dictionary')\n",
    "- [Numpy Tutorials: Linear algebra on n-dimensional arrays]('https://numpy.org/numpy-tutorials/content/tutorial-svd.html')\n",
    "- [W3 Schools: Python Dictionaries]('https://www.w3schools.com/python/python_dictionaries.asp')\n",
    "- [The Python Tutorial: 3. An Informal Introduction to Python]('https://docs.python.org/3/tutorial/introduction.html#first-steps-towards-programming')\n",
    "- [StackOverflow: What is the meaning of curly braces?]('https://stackoverflow.com/questions/9197324/what-is-the-meaning-of-curly-braces#:~:text=%22Curly%20Braces%22%20are%20used%20in,%22%20%3A%20%22Banana%22%2C%20%7D')"
   ]
  },
  {
   "cell_type": "code",
   "execution_count": 1,
   "id": "3320ac09",
   "metadata": {},
   "outputs": [],
   "source": [
    "import os\n",
    "from osgeo import gdal\n",
    "import rasterio as rio\n",
    "import numpy as np\n",
    "import matplotlib.pyplot as plt"
   ]
  },
  {
   "cell_type": "code",
   "execution_count": 2,
   "id": "5fa1df23",
   "metadata": {},
   "outputs": [
    {
     "data": {
      "text/plain": [
       "'1.2.9'"
      ]
     },
     "execution_count": 2,
     "metadata": {},
     "output_type": "execute_result"
    }
   ],
   "source": [
    "rio.__version__"
   ]
  },
  {
   "cell_type": "code",
   "execution_count": 3,
   "id": "4b022947",
   "metadata": {},
   "outputs": [
    {
     "data": {
      "text/plain": [
       "'D:\\\\deeplearning\\\\script\\\\jupyter'"
      ]
     },
     "execution_count": 3,
     "metadata": {},
     "output_type": "execute_result"
    }
   ],
   "source": [
    "os.getcwd()"
   ]
  },
  {
   "cell_type": "markdown",
   "id": "104a4a80",
   "metadata": {},
   "source": [
    "## Opening raster dataset in reading mode"
   ]
  },
  {
   "cell_type": "markdown",
   "id": "2be6a750",
   "metadata": {},
   "source": [
    "### `rasterio.open()`"
   ]
  },
  {
   "cell_type": "markdown",
   "id": "c8d2e52e",
   "metadata": {},
   "source": [
    "The `rasterio.open()`takes the data path and returns it as an opened dataset object. Dataset objects have some of the same attributes as Python file objects. "
   ]
  },
  {
   "cell_type": "code",
   "execution_count": 4,
   "id": "3737d9ac",
   "metadata": {},
   "outputs": [],
   "source": [
    "dataset = rio.open(r'D:\\deeplearning\\data\\subset_s2_01_corrected_02_resampled_03.tif')"
   ]
  },
  {
   "cell_type": "markdown",
   "id": "17d477be",
   "metadata": {},
   "source": [
    "### `.mode`"
   ]
  },
  {
   "cell_type": "markdown",
   "id": "32be7f37",
   "metadata": {},
   "source": [
    "The dataset `.mode` function will confirm the type of file with abbreviations. The mode `r` refers to the data in 'read' form"
   ]
  },
  {
   "cell_type": "code",
   "execution_count": 5,
   "id": "dfb104aa",
   "metadata": {},
   "outputs": [
    {
     "data": {
      "text/plain": [
       "'r'"
      ]
     },
     "execution_count": 5,
     "metadata": {},
     "output_type": "execute_result"
    }
   ],
   "source": [
    "dataset.mode"
   ]
  },
  {
   "cell_type": "markdown",
   "id": "c4130ef6",
   "metadata": {},
   "source": [
    "### `.closed`"
   ]
  },
  {
   "cell_type": "markdown",
   "id": "774a4e6b",
   "metadata": {},
   "source": [
    "The dataset `.closed` function is to test if the dataset is closed. It will return 'False' should the data is opened."
   ]
  },
  {
   "cell_type": "code",
   "execution_count": 6,
   "id": "3c41027a",
   "metadata": {},
   "outputs": [
    {
     "data": {
      "text/plain": [
       "False"
      ]
     },
     "execution_count": 6,
     "metadata": {},
     "output_type": "execute_result"
    }
   ],
   "source": [
    "dataset.closed"
   ]
  },
  {
   "cell_type": "markdown",
   "id": "f2852eca",
   "metadata": {},
   "source": [
    "## Raster dataset attributes"
   ]
  },
  {
   "cell_type": "markdown",
   "id": "e7f4c16a",
   "metadata": {},
   "source": [
    "### `.count` "
   ]
  },
  {
   "cell_type": "markdown",
   "id": "0c152415",
   "metadata": {},
   "source": [
    "Image dataset objects have bands and we can check the number of bands by using `.count` function"
   ]
  },
  {
   "cell_type": "code",
   "execution_count": 7,
   "id": "df1d3681",
   "metadata": {},
   "outputs": [
    {
     "data": {
      "text/plain": [
       "11"
      ]
     },
     "execution_count": 7,
     "metadata": {},
     "output_type": "execute_result"
    }
   ],
   "source": [
    "dataset.count"
   ]
  },
  {
   "cell_type": "markdown",
   "id": "28bd49ef",
   "metadata": {},
   "source": [
    "### `.width` and `.height`"
   ]
  },
  {
   "cell_type": "markdown",
   "id": "747d0445",
   "metadata": {},
   "source": [
    "The dataset object width and height can be checked using the `.width` and `.height` functions."
   ]
  },
  {
   "cell_type": "code",
   "execution_count": 8,
   "id": "50a87d51",
   "metadata": {},
   "outputs": [
    {
     "name": "stdout",
     "output_type": "stream",
     "text": [
      "3432 2173\n"
     ]
    }
   ],
   "source": [
    "dataset.width\n",
    "dataset.height\n",
    "print(dataset.width, dataset.height)"
   ]
  },
  {
   "cell_type": "markdown",
   "id": "e0150226",
   "metadata": {},
   "source": [
    "### dictionary comprehension `.indexes` and `.dtypes`"
   ]
  },
  {
   "cell_type": "markdown",
   "id": "4bb5450f",
   "metadata": {},
   "source": [
    "Some dataset attributes returns the attribute properties of all dataset bands through tuple of values; one for each band. To get a mapping of band indexes to variable data types, apply a **dictionary comprehension** to the `zip()` product of the dataset's `indexes` and `dtypes` attribute.\n",
    "   - _dictionary_: a collection which is ordered (as of Python version 3.7), changeable but does not allow duplicated, used to store data values in **key:value** pairs. See [Python Dictionaries]('https://www.w3schools.com/python/python_dictionaries.asp')\n",
    "   - _list & dictionary comprehension_: see [Python Basics: List Comprehensions, Dictionary Comprehensions and Generator Expressions]('https://www.netguru.com/blog/python-list-comprehension-dictionary')"
   ]
  },
  {
   "cell_type": "code",
   "execution_count": 9,
   "id": "d57406be",
   "metadata": {},
   "outputs": [
    {
     "data": {
      "text/plain": [
       "{1: 'uint16',\n",
       " 2: 'uint16',\n",
       " 3: 'uint16',\n",
       " 4: 'uint16',\n",
       " 5: 'uint16',\n",
       " 6: 'uint16',\n",
       " 7: 'uint16',\n",
       " 8: 'uint16',\n",
       " 9: 'uint16',\n",
       " 10: 'uint16',\n",
       " 11: 'uint16'}"
      ]
     },
     "execution_count": 9,
     "metadata": {},
     "output_type": "execute_result"
    }
   ],
   "source": [
    "{i: dtype for i, dtype in zip(dataset.indexes, dataset.dtypes)}"
   ]
  },
  {
   "cell_type": "markdown",
   "id": "91bd4f65",
   "metadata": {},
   "source": [
    "### `.driver`"
   ]
  },
  {
   "cell_type": "markdown",
   "id": "f0de4130",
   "metadata": {},
   "source": [
    "The `.driver` attribute reveals the type of raster format of the raster dataset"
   ]
  },
  {
   "cell_type": "code",
   "execution_count": 10,
   "id": "d3c0b26a",
   "metadata": {},
   "outputs": [
    {
     "data": {
      "text/plain": [
       "'GTiff'"
      ]
     },
     "execution_count": 10,
     "metadata": {},
     "output_type": "execute_result"
    }
   ],
   "source": [
    "dataset.driver"
   ]
  },
  {
   "cell_type": "markdown",
   "id": "fed67a08",
   "metadata": {},
   "source": [
    "## Raster data georeferences"
   ]
  },
  {
   "cell_type": "markdown",
   "id": "d296978b",
   "metadata": {},
   "source": [
    "### `.bounds`"
   ]
  },
  {
   "cell_type": "markdown",
   "id": "f2f885b0",
   "metadata": {},
   "source": [
    "GIS raster dataset is different from typical image file since its pixels or in this Python data context, 'elements' are mapped to regions on the earth surface. Thus, all of these elements are contained within a bounding box.\n",
    "\n",
    "For the raster utilized in this exercise, the return of the `.bounds` function is the values making up the bounding box of the raster; _left, bottom, right, top_. It can be understood as:\n",
    "> - The dataset covers the world from 748410 meters to 782730 meters, left to right. And it covers 333540 meters to 355270 meters, bottoms up.\n",
    "> - Overall, it covers 34320 meters width and  21730 meters height"
   ]
  },
  {
   "cell_type": "code",
   "execution_count": 11,
   "id": "089a284c",
   "metadata": {},
   "outputs": [
    {
     "data": {
      "text/plain": [
       "BoundingBox(left=748410.0, bottom=333540.0, right=782730.0, top=355270.0)"
      ]
     },
     "execution_count": 11,
     "metadata": {},
     "output_type": "execute_result"
    }
   ],
   "source": [
    "dataset.bounds"
   ]
  },
  {
   "cell_type": "markdown",
   "id": "c7bc437d",
   "metadata": {},
   "source": [
    "### `.transform`"
   ]
  },
  {
   "cell_type": "markdown",
   "id": "fd84fbbb",
   "metadata": {},
   "source": [
    "The `.bounds` attribute originated from `.transform` attribute which is the affine matrix that maps pixel locations in coordinates to spatial locations; (rows and columns to x and y). \n",
    "> - The origin of this matrix (0, 0) is the upper left corner of the dataset; thus so is the spatial position."
   ]
  },
  {
   "cell_type": "code",
   "execution_count": 12,
   "id": "4c237efa",
   "metadata": {},
   "outputs": [
    {
     "data": {
      "text/plain": [
       "Affine(10.0, 0.0, 748410.0,\n",
       "       0.0, -10.0, 355270.0)"
      ]
     },
     "execution_count": 12,
     "metadata": {},
     "output_type": "execute_result"
    }
   ],
   "source": [
    "dataset.transform"
   ]
  },
  {
   "cell_type": "code",
   "execution_count": 13,
   "id": "d97f888b",
   "metadata": {},
   "outputs": [
    {
     "data": {
      "text/plain": [
       "(748410.0, 355270.0)"
      ]
     },
     "execution_count": 13,
     "metadata": {},
     "output_type": "execute_result"
    }
   ],
   "source": [
    "# We can find the position of the origin (0, 0); upper left corner of the data\n",
    "dataset.transform * (0, 0)"
   ]
  },
  {
   "cell_type": "code",
   "execution_count": 14,
   "id": "4eb1310a",
   "metadata": {},
   "outputs": [
    {
     "data": {
      "text/plain": [
       "(782730.0, 333540.0)"
      ]
     },
     "execution_count": 14,
     "metadata": {},
     "output_type": "execute_result"
    }
   ],
   "source": [
    "# And similarly the extremeties/total extent end; lower right corner\n",
    "dataset.transform * (dataset.width, dataset.height)"
   ]
  },
  {
   "cell_type": "markdown",
   "id": "787a7e35",
   "metadata": {},
   "source": [
    "### `.crs`"
   ]
  },
  {
   "cell_type": "markdown",
   "id": "f391ce0d",
   "metadata": {},
   "source": [
    "The special attribute to geospatial raster coordinate values are relative to the dataset's coordinate reference system (CRS). These coordinate reference system are in the EPSG format."
   ]
  },
  {
   "cell_type": "code",
   "execution_count": 15,
   "id": "8e77979a",
   "metadata": {},
   "outputs": [
    {
     "data": {
      "text/plain": [
       "CRS.from_epsg(32647)"
      ]
     },
     "execution_count": 15,
     "metadata": {},
     "output_type": "execute_result"
    }
   ],
   "source": [
    "dataset.crs"
   ]
  },
  {
   "cell_type": "markdown",
   "id": "f5fc5891",
   "metadata": {},
   "source": [
    "## Reading the raster data"
   ]
  },
  {
   "cell_type": "markdown",
   "id": "e95f8830",
   "metadata": {},
   "source": [
    "### `.indexes`"
   ]
  },
  {
   "cell_type": "markdown",
   "id": "f29110f2",
   "metadata": {},
   "source": [
    "The bands of a raster image that has been opened can be **accessed** through the bands' index number. \n",
    "- It is to be noted that, bands indexed in the raster image starts from 1\n",
    "- This is a convetion inherited from GDAL"
   ]
  },
  {
   "cell_type": "code",
   "execution_count": 16,
   "id": "46ac01eb",
   "metadata": {},
   "outputs": [
    {
     "data": {
      "text/plain": [
       "(1, 2, 3, 4, 5, 6, 7, 8, 9, 10, 11)"
      ]
     },
     "execution_count": 16,
     "metadata": {},
     "output_type": "execute_result"
    }
   ],
   "source": [
    "# This will give full list number of bands contained in the opened image\n",
    "dataset.indexes"
   ]
  },
  {
   "cell_type": "markdown",
   "id": "7b4f5cb3",
   "metadata": {},
   "source": [
    "### `.read()`"
   ]
  },
  {
   "cell_type": "markdown",
   "id": "14d303ba",
   "metadata": {},
   "source": [
    "For the opened raster dataset to be used in any operations, it should be read into Python. That can be achieved by implementing the `.read()` method. \n",
    "- The `.read()` method will return a `numpy` N-D array\n",
    "- Any operations that is doable for numpay arrays can be implemented on the arrays that have been read from the raster image dataset"
   ]
  },
  {
   "cell_type": "code",
   "execution_count": 17,
   "id": "2433302d",
   "metadata": {},
   "outputs": [
    {
     "name": "stdout",
     "output_type": "stream",
     "text": [
      "<class 'numpy.ndarray'> <class 'numpy.ndarray'>\n",
      "(11, 2173, 3432) (2173, 3432)\n"
     ]
    }
   ],
   "source": [
    "# We can read out all the bands in the single image\n",
    "raster_array = dataset.read()\n",
    "\n",
    "# Or we can call them in singles\n",
    "raster_array_b2 = dataset.read(1)\n",
    "\n",
    "# And both will still be an array\n",
    "print(type(raster_array), type(raster_array_b2))\n",
    "\n",
    "# And we can still be look at the shape of both\n",
    "print(raster_array.shape, raster_array_b2.shape)"
   ]
  },
  {
   "cell_type": "code",
   "execution_count": 18,
   "id": "7e9eab4d",
   "metadata": {},
   "outputs": [
    {
     "data": {
      "text/plain": [
       "array([[[ 710,  744,  694, ...,  348,  344,  367],\n",
       "        [ 703,  786,  691, ...,  357,  357,  365],\n",
       "        [ 728,  738,  672, ...,  360,  357,  351],\n",
       "        ...,\n",
       "        [ 252,  277,  271, ...,  703,  664,  650],\n",
       "        [ 244,  253,  253, ...,  724,  696,  646],\n",
       "        [ 252,  265,  250, ...,  732,  659,  658]],\n",
       "\n",
       "       [[ 856,  835,  889, ...,  543,  569,  581],\n",
       "        [ 894,  899,  867, ...,  558,  593,  561],\n",
       "        [ 871,  907,  816, ...,  546,  586,  533],\n",
       "        ...,\n",
       "        [ 478,  479,  505, ...,  778,  808,  753],\n",
       "        [ 440,  472,  457, ...,  834,  752,  704],\n",
       "        [ 460,  457,  465, ...,  976,  827,  778]],\n",
       "\n",
       "       [[ 431,  421,  448, ...,  349,  354,  360],\n",
       "        [ 451,  481,  459, ...,  373,  368,  360],\n",
       "        [ 430,  489,  436, ...,  371,  391,  368],\n",
       "        ...,\n",
       "        [ 221,  229,  229, ...,  893,  999,  758],\n",
       "        [ 217,  229,  228, ...,  901,  873,  726],\n",
       "        [ 227,  232,  225, ..., 1070,  927,  795]],\n",
       "\n",
       "       ...,\n",
       "\n",
       "       [[ 536,  536,  536, ..., 2787, 2787, 2787],\n",
       "        [ 532,  532,  532, ..., 3065, 3065, 3065],\n",
       "        [ 532,  532,  532, ..., 3065, 3065, 3065],\n",
       "        ...,\n",
       "        [3530, 3530, 3530, ..., 1704, 1704, 1704],\n",
       "        [3530, 3530, 3530, ..., 1704, 1704, 1704],\n",
       "        [3530, 3530, 3530, ..., 1704, 1704, 1704]],\n",
       "\n",
       "       [[ 161,  177,  177, ..., 1834, 1834, 1639],\n",
       "        [ 177,  188,  188, ..., 1864, 1864, 1675],\n",
       "        [ 177,  188,  188, ..., 1864, 1864, 1675],\n",
       "        ...,\n",
       "        [ 974,  982,  982, ..., 1650, 1650, 1659],\n",
       "        [ 874,  866,  866, ..., 1779, 1779, 1489],\n",
       "        [ 874,  866,  866, ..., 1779, 1779, 1489]],\n",
       "\n",
       "       [[ 149,  160,  160, ...,  948,  948,  815],\n",
       "        [ 153,  165,  165, ...,  954,  954,  878],\n",
       "        [ 153,  165,  165, ...,  954,  954,  878],\n",
       "        ...,\n",
       "        [ 372,  376,  376, ..., 1351, 1351, 1316],\n",
       "        [ 336,  338,  338, ..., 1456, 1456, 1244],\n",
       "        [ 336,  338,  338, ..., 1456, 1456, 1244]]], dtype=uint16)"
      ]
     },
     "execution_count": 18,
     "metadata": {},
     "output_type": "execute_result"
    }
   ],
   "source": [
    "# View the elements of raster_array\n",
    "raster_array"
   ]
  },
  {
   "cell_type": "markdown",
   "id": "73047ec7",
   "metadata": {},
   "source": [
    "Given that Sentinel-2 L2A image denotes its values in digital numbers, we will need to quantify it to its quantification value to reveal the surface reflectance values. From Sentinel-2A 1LC handbook:\n",
    "> rTOA = float(DN) * 10000\n",
    "> where,\n",
    "    > r = reflectance\n",
    "    > TOA = Top-of-Atmosphere\n",
    "    > DN = Digital Numbers\n",
    "    > 10000 = Quantification value denoted for Sentinel-2 images\n",
    "\n",
    "Should the Sentinel-2 image has been atmospherically corrected into a Bottom-of-Atmosphere; Sentinel-2 L2A, the quantification still needs to be implemented to obtain **Surface Reflectance** which is the very feature we are interested in for optical imagery analysis. \n",
    "\n",
    "We can implement the quantification values on all the bands by taking advantage of `numpy` arrays capability to enable linear algebra operations:"
   ]
  },
  {
   "cell_type": "code",
   "execution_count": 20,
   "id": "909a3ad0",
   "metadata": {},
   "outputs": [
    {
     "data": {
      "text/plain": [
       "array([[[0.071 , 0.0744, 0.0694, ..., 0.0348, 0.0344, 0.0367],\n",
       "        [0.0703, 0.0786, 0.0691, ..., 0.0357, 0.0357, 0.0365],\n",
       "        [0.0728, 0.0738, 0.0672, ..., 0.036 , 0.0357, 0.0351],\n",
       "        ...,\n",
       "        [0.0252, 0.0277, 0.0271, ..., 0.0703, 0.0664, 0.065 ],\n",
       "        [0.0244, 0.0253, 0.0253, ..., 0.0724, 0.0696, 0.0646],\n",
       "        [0.0252, 0.0265, 0.025 , ..., 0.0732, 0.0659, 0.0658]],\n",
       "\n",
       "       [[0.0856, 0.0835, 0.0889, ..., 0.0543, 0.0569, 0.0581],\n",
       "        [0.0894, 0.0899, 0.0867, ..., 0.0558, 0.0593, 0.0561],\n",
       "        [0.0871, 0.0907, 0.0816, ..., 0.0546, 0.0586, 0.0533],\n",
       "        ...,\n",
       "        [0.0478, 0.0479, 0.0505, ..., 0.0778, 0.0808, 0.0753],\n",
       "        [0.044 , 0.0472, 0.0457, ..., 0.0834, 0.0752, 0.0704],\n",
       "        [0.046 , 0.0457, 0.0465, ..., 0.0976, 0.0827, 0.0778]],\n",
       "\n",
       "       [[0.0431, 0.0421, 0.0448, ..., 0.0349, 0.0354, 0.036 ],\n",
       "        [0.0451, 0.0481, 0.0459, ..., 0.0373, 0.0368, 0.036 ],\n",
       "        [0.043 , 0.0489, 0.0436, ..., 0.0371, 0.0391, 0.0368],\n",
       "        ...,\n",
       "        [0.0221, 0.0229, 0.0229, ..., 0.0893, 0.0999, 0.0758],\n",
       "        [0.0217, 0.0229, 0.0228, ..., 0.0901, 0.0873, 0.0726],\n",
       "        [0.0227, 0.0232, 0.0225, ..., 0.107 , 0.0927, 0.0795]],\n",
       "\n",
       "       ...,\n",
       "\n",
       "       [[0.0536, 0.0536, 0.0536, ..., 0.2787, 0.2787, 0.2787],\n",
       "        [0.0532, 0.0532, 0.0532, ..., 0.3065, 0.3065, 0.3065],\n",
       "        [0.0532, 0.0532, 0.0532, ..., 0.3065, 0.3065, 0.3065],\n",
       "        ...,\n",
       "        [0.353 , 0.353 , 0.353 , ..., 0.1704, 0.1704, 0.1704],\n",
       "        [0.353 , 0.353 , 0.353 , ..., 0.1704, 0.1704, 0.1704],\n",
       "        [0.353 , 0.353 , 0.353 , ..., 0.1704, 0.1704, 0.1704]],\n",
       "\n",
       "       [[0.0161, 0.0177, 0.0177, ..., 0.1834, 0.1834, 0.1639],\n",
       "        [0.0177, 0.0188, 0.0188, ..., 0.1864, 0.1864, 0.1675],\n",
       "        [0.0177, 0.0188, 0.0188, ..., 0.1864, 0.1864, 0.1675],\n",
       "        ...,\n",
       "        [0.0974, 0.0982, 0.0982, ..., 0.165 , 0.165 , 0.1659],\n",
       "        [0.0874, 0.0866, 0.0866, ..., 0.1779, 0.1779, 0.1489],\n",
       "        [0.0874, 0.0866, 0.0866, ..., 0.1779, 0.1779, 0.1489]],\n",
       "\n",
       "       [[0.0149, 0.016 , 0.016 , ..., 0.0948, 0.0948, 0.0815],\n",
       "        [0.0153, 0.0165, 0.0165, ..., 0.0954, 0.0954, 0.0878],\n",
       "        [0.0153, 0.0165, 0.0165, ..., 0.0954, 0.0954, 0.0878],\n",
       "        ...,\n",
       "        [0.0372, 0.0376, 0.0376, ..., 0.1351, 0.1351, 0.1316],\n",
       "        [0.0336, 0.0338, 0.0338, ..., 0.1456, 0.1456, 0.1244],\n",
       "        [0.0336, 0.0338, 0.0338, ..., 0.1456, 0.1456, 0.1244]]])"
      ]
     },
     "execution_count": 20,
     "metadata": {},
     "output_type": "execute_result"
    }
   ],
   "source": [
    "sr_raster_array = raster_array / 10000\n",
    "sr_raster_array"
   ]
  },
  {
   "cell_type": "code",
   "execution_count": 21,
   "id": "16658ad5",
   "metadata": {},
   "outputs": [
    {
     "data": {
      "text/plain": [
       "array([[710, 744, 694, ..., 348, 344, 367],\n",
       "       [703, 786, 691, ..., 357, 357, 365],\n",
       "       [728, 738, 672, ..., 360, 357, 351],\n",
       "       ...,\n",
       "       [252, 277, 271, ..., 703, 664, 650],\n",
       "       [244, 253, 253, ..., 724, 696, 646],\n",
       "       [252, 265, 250, ..., 732, 659, 658]], dtype=uint16)"
      ]
     },
     "execution_count": 21,
     "metadata": {},
     "output_type": "execute_result"
    }
   ],
   "source": [
    "# View the elements of raster_array_b2\n",
    "raster_array_b2"
   ]
  },
  {
   "cell_type": "markdown",
   "id": "272da1e5",
   "metadata": {},
   "source": [
    "### Band statistics"
   ]
  },
  {
   "cell_type": "markdown",
   "id": "3e49cadb",
   "metadata": {},
   "source": [
    "Givent that we can read all the bands in the single image into a 3D-array, we can also calculate the statistics of each band directly using the attributes and the for-loop.\n",
    "> - This will iterate through the data withing the 3D-array, extract the information on the attributes requested and compile them in a single list.\n",
    "> - An empty list needs to be created for this purpose; as often when working with for-loop\n",
    "\n",
    "The attributes that we are interest in is the statistics of **each single band** which are:\n",
    "- `.min()`\n",
    "- `.mean()`\n",
    "- `.median()`\n",
    "- `.max()`\n",
    "\n",
    "**NOTE:** Curly brackets are used to define dictionaries in Python"
   ]
  },
  {
   "cell_type": "code",
   "execution_count": 22,
   "id": "f2380be4",
   "metadata": {},
   "outputs": [
    {
     "data": {
      "text/plain": [
       "[{'min': 90, 'median': 717.0, 'max': 16624, 'mean': 763.1122406317413},\n",
       " {'min': 79, 'median': 879.0, 'max': 17520, 'mean': 952.8905765771274},\n",
       " {'min': 1, 'median': 562.0, 'max': 16704, 'mean': 823.1337790718255},\n",
       " {'min': 1, 'median': 901.0, 'max': 15946, 'mean': 1086.367904549048},\n",
       " {'min': 154, 'median': 2039.0, 'max': 15766, 'mean': 1765.5463074852744},\n",
       " {'min': 173, 'median': 2382.0, 'max': 16150, 'mean': 2101.8954705556753},\n",
       " {'min': 141, 'median': 2308.0, 'max': 15352, 'mean': 2037.1858612318806},\n",
       " {'min': 139, 'median': 2529.0, 'max': 15946, 'mean': 2207.8530901335203},\n",
       " {'min': 417, 'median': 2534.0, 'max': 5735, 'mean': 2290.7969063265314},\n",
       " {'min': 99, 'median': 1780.0, 'max': 14344, 'mean': 1648.1553597499294},\n",
       " {'min': 42, 'median': 909.0, 'max': 15149, 'mean': 1188.019502701624}]"
      ]
     },
     "execution_count": 22,
     "metadata": {},
     "output_type": "execute_result"
    }
   ],
   "source": [
    "# The dataset and its bands have already been read as 'raster_array'\n",
    "\n",
    "# Create the empty list to contain the dictionary of information for each bands\n",
    "## We are creating a 'key:value' type of data, so dictionary is the best way to list the statistics of each bands\n",
    "band_stats = []\n",
    "\n",
    "for band in raster_array:\n",
    "    band_stats.append({\n",
    "        'min': band.min(),\n",
    "        'median': np.median(band),\n",
    "        'max': band.max(),\n",
    "        'mean': band.mean()\n",
    "    })\n",
    "\n",
    "# Show the statistics\n",
    "band_stats"
   ]
  },
  {
   "cell_type": "markdown",
   "id": "9b0a0c9f",
   "metadata": {},
   "source": [
    "## Spatial indexing values in arrays"
   ]
  },
  {
   "cell_type": "markdown",
   "id": "2eee293d",
   "metadata": {},
   "source": [
    "### `.index()`"
   ]
  },
  {
   "cell_type": "markdown",
   "id": "6f7947b4",
   "metadata": {},
   "source": [
    "The `.index()` method is different from `.indexes` attribute. The `.index()` method extracts the array indices that corresponds to the points in the georeferenced space. It is a roundabout way of getting the specific coordinates using the raster image and calling the index on the raster arrays that has been read."
   ]
  },
  {
   "cell_type": "code",
   "execution_count": 23,
   "id": "1e17ae34",
   "metadata": {},
   "outputs": [
    {
     "name": "stdout",
     "output_type": "stream",
     "text": [
      "500 1000 355\n"
     ]
    }
   ],
   "source": [
    "# Obtain the value for pixel 10 km east and 5 km south of dataset upper left corner (origin)\n",
    "\n",
    "## 1 Extract information on the rows and columns aka x and y coordinates\n",
    "x, y = (dataset.bounds.left + 10000, dataset.bounds.top - 5000)\n",
    "row, col = dataset.index(x, y)\n",
    "\n",
    "## 2 Obtain the values at the coordinates extracted; row, col\n",
    "raster_array_b2[row, col]\n",
    "\n",
    "### Let's look at coordinates and pixel extracted\n",
    "print(row, col, raster_array_b2[row, col])"
   ]
  },
  {
   "cell_type": "markdown",
   "id": "bdca6411",
   "metadata": {},
   "source": [
    "### `.xy()`"
   ]
  },
  {
   "cell_type": "markdown",
   "id": "46f1d932",
   "metadata": {},
   "source": [
    "The `.xy()` method is used to obtain the value of the pixel at the specific coordinates."
   ]
  },
  {
   "cell_type": "code",
   "execution_count": 24,
   "id": "05baa3e8",
   "metadata": {},
   "outputs": [
    {
     "data": {
      "text/plain": [
       "(765575.0, 344405.0)"
      ]
     },
     "execution_count": 24,
     "metadata": {},
     "output_type": "execute_result"
    }
   ],
   "source": [
    "# If we try to obtain the coordinates of the very center of the image\n",
    "dataset.xy(dataset.height // 2, dataset.width // 2)"
   ]
  },
  {
   "cell_type": "markdown",
   "id": "8934b313",
   "metadata": {},
   "source": [
    "## Opening raster dataset in writing mode"
   ]
  },
  {
   "cell_type": "markdown",
   "id": "b27662b0",
   "metadata": {},
   "source": [
    "### `.open()`"
   ]
  },
  {
   "cell_type": "markdown",
   "id": "6279a580",
   "metadata": {},
   "source": [
    "To save an image n-d array its georeferencing information into a new raster data, we have to call for the method to create a new raster file. This can be done using the similar method as opening the raster dataset in reading mode. This time, we need to specify that we are going to open it in an editable 'writing' mode which is denoted by the abbreviation `w`.\n",
    "\n",
    "This method also requires a few arguments to generate the new raster dataset:\n",
    "- _driver_: The name of the desired format\n",
    "- _width_: The number of columns in the dataset\n",
    "- _height_: The number of rows in the dataset\n",
    "- _count_: The count of dataset bands\n",
    "- _dtype_: The data type of the dataset\n",
    "- _crs_: The coordinate system in EPSG format to which you want to write the raster as\n",
    "- _transform_: An affine transformation matrix \n",
    "- _nodata_: A 'nodata' value\n",
    "\n",
    "**NOTE:**\n",
    "> The _driver, width, height, count_ and _dtype_ keyword arguments parameters is a fixed format-specific properties of the data file \n",
    "> Meanwhile _coordinate reference system, transform_ and _nodata value_ configuration are optional\n",
    "\n",
    "An example can be seen below where we attempt to create a new raster 'new.tif' with parameters similar to an existing raster called 'raster_array' 3D-array:"
   ]
  },
  {
   "cell_type": "code",
   "execution_count": 25,
   "id": "44f1b31a",
   "metadata": {},
   "outputs": [],
   "source": [
    "# Creating new raster\n",
    "new_dataset = rio.open('new.tif',\n",
    "                      'w',\n",
    "                      driver = 'GTiff',\n",
    "                      height = raster_array_b2.shape[0],\n",
    "                      width = raster_array_b2.shape[1],\n",
    "                      count = 1,\n",
    "                      dtype = raster_array_b2.dtype,\n",
    "                      crs = 'proj=latlong',  # CRS of an equirectangular coordinate reference system with unit decimal degress\n",
    "                      transform=dataset.transform)"
   ]
  },
  {
   "cell_type": "markdown",
   "id": "46aff457",
   "metadata": {},
   "source": [
    "## Saving the raster dataset"
   ]
  },
  {
   "cell_type": "markdown",
   "id": "78525955",
   "metadata": {},
   "source": [
    "### `.write()`"
   ]
  },
  {
   "cell_type": "markdown",
   "id": "5dd79c95",
   "metadata": {},
   "source": [
    "Call the new dataset `.write()` method to copy the grid into the newly opened dataset with the grid and target band number as arguments."
   ]
  },
  {
   "cell_type": "code",
   "execution_count": 26,
   "id": "852b6463",
   "metadata": {},
   "outputs": [],
   "source": [
    "new_dataset.write(raster_array_b2, 1)"
   ]
  },
  {
   "cell_type": "markdown",
   "id": "a8bb5fd8",
   "metadata": {},
   "source": [
    "### `.close()`"
   ]
  },
  {
   "cell_type": "markdown",
   "id": "98692de6",
   "metadata": {},
   "source": [
    "After writing the grid and information of the new dataset into the newly created 'new.tif' raster, we need to call upon the `.close()` method to sync the data to the disk and finish"
   ]
  },
  {
   "cell_type": "code",
   "execution_count": 27,
   "id": "ba22af43",
   "metadata": {},
   "outputs": [],
   "source": [
    "new_dataset.close()"
   ]
  },
  {
   "cell_type": "code",
   "execution_count": 28,
   "id": "7831b228",
   "metadata": {},
   "outputs": [],
   "source": [
    "# To simplify the process above and include the writing of the new raster, you ca implement context manager protocol\n",
    "\n",
    "with rio.open('new.tif',\n",
    "             'w', \n",
    "              driver = 'GTiff',\n",
    "              height = raster_array_b2.shape[0],\n",
    "              width = raster_array_b2.shape[1],\n",
    "              count = 1,\n",
    "              dtype = raster_array_b2.dtype,\n",
    "              crs = 'proj=latlong',  # CRS of an equirectangular coordinate reference system with unit decimal degress\n",
    "              transform=dataset.transform\n",
    ") as dst:\n",
    "    dst.write(raster_array_b2, 1)"
   ]
  }
 ],
 "metadata": {
  "kernelspec": {
   "display_name": "Python 3 (ipykernel)",
   "language": "python",
   "name": "python3"
  },
  "language_info": {
   "codemirror_mode": {
    "name": "ipython",
    "version": 3
   },
   "file_extension": ".py",
   "mimetype": "text/x-python",
   "name": "python",
   "nbconvert_exporter": "python",
   "pygments_lexer": "ipython3",
   "version": "3.9.5"
  }
 },
 "nbformat": 4,
 "nbformat_minor": 5
}
