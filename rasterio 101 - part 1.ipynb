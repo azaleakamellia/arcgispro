{
 "cells": [
  {
   "cell_type": "markdown",
   "id": "25ed9cf5",
   "metadata": {},
   "source": [
    "# rasterio 101: part 1 "
   ]
  },
  {
   "cell_type": "markdown",
   "id": "012dc1c9",
   "metadata": {},
   "source": [
    "The `rasterio` is a Python standard for the raster data library that expresses GDAL's data using fewer non-idiomatic extension classes and more idiomatic Python types and protocols while maintaining GDAL's Python binding speed. \n",
    "\n",
    "For this study, we will be using a clipped Sentinel-2 image with 11 bands which started at band 2. So, following the Sentinel-2 image band sequences respectively, it starts with band 2; Blue band, band 3; Green band and so forth to the 11th band. \n",
    "\n",
    "References:\n",
    "- [rasterio: Python Quickstart]('https://rasterio.readthedocs.io/en/latest/quickstart.html')\n",
    "- [AutoGIS: Reading raster files with Rasterio]('https://autogis-site.readthedocs.io/en/latest/notebooks/Raster/reading-raster.html')\n",
    "- [Geo-Python 2021]('https://geo-python-site.readthedocs.io/en/latest/')\n",
    "- [Pyton Basics: List Comprehensions, Dictionary Comprehensions and Generator Expressions]('https://www.netguru.com/blog/python-list-comprehension-dictionary')\n",
    "- [Numpy Tutorials: Linear algebra on n-dimensional arrays]('https://numpy.org/numpy-tutorials/content/tutorial-svd.html')\n",
    "- [W3 Schools: Python Dictionaries]('https://www.w3schools.com/python/python_dictionaries.asp')\n",
    "- [The Python Tutorial: 3. An Informal Introduction to Python]('https://docs.python.org/3/tutorial/introduction.html#first-steps-towards-programming')\n",
    "- [StackOverflow: What is the meaning of curly braces?]('https://stackoverflow.com/questions/9197324/what-is-the-meaning-of-curly-braces#:~:text=%22Curly%20Braces%22%20are%20used%20in,%22%20%3A%20%22Banana%22%2C%20%7D')"
   ]
  },
  {
   "cell_type": "code",
   "execution_count": 1,
   "id": "3320ac09",
   "metadata": {},
   "outputs": [],
   "source": [
    "import os\n",
    "from osgeo import gdal\n",
    "import rasterio as rio\n",
    "import numpy as np\n",
    "import matplotlib.pyplot as plt"
   ]
  },
  {
   "cell_type": "code",
   "execution_count": 2,
   "id": "5fa1df23",
   "metadata": {},
   "outputs": [
    {
     "data": {
      "text/plain": [
       "'1.2.9'"
      ]
     },
     "execution_count": 2,
     "metadata": {},
     "output_type": "execute_result"
    }
   ],
   "source": [
    "rio.__version__"
   ]
  },
  {
   "cell_type": "code",
   "execution_count": 3,
   "id": "b1928950",
   "metadata": {},
   "outputs": [
    {
     "data": {
      "text/plain": [
       "'D:\\\\deeplearning\\\\script\\\\jupyter'"
      ]
     },
     "execution_count": 3,
     "metadata": {},
     "output_type": "execute_result"
    }
   ],
   "source": [
    "os.getcwd()"
   ]
  },
  {
   "cell_type": "markdown",
   "id": "104a4a80",
   "metadata": {},
   "source": [
    "## Opening raster dataset in reading mode"
   ]
  },
  {
   "cell_type": "markdown",
   "id": "2be6a750",
   "metadata": {},
   "source": [
    "### `rasterio.open()`"
   ]
  },
  {
   "cell_type": "markdown",
   "id": "711b370c",
   "metadata": {},
   "source": [
    "The `rasterio.open()`takes the data path and returns it as an opened dataset object. Dataset objects have some of the same attributes as Python file objects. "
   ]
  },
  {
   "cell_type": "code",
   "execution_count": 4,
   "id": "3737d9ac",
   "metadata": {},
   "outputs": [],
   "source": [
    "dataset = rio.open(r'D:\\deeplearning\\data\\subset_s2_01_corrected_02_resampled_03.tif')"
   ]
  },
  {
   "cell_type": "markdown",
   "id": "17d477be",
   "metadata": {},
   "source": [
    "### `.mode`"
   ]
  },
  {
   "cell_type": "markdown",
   "id": "be4b050b",
   "metadata": {},
   "source": [
    "The dataset `.mode` function will confirm the type of file with abbreviations. The mode `r` refers to the data in 'read' form"
   ]
  },
  {
   "cell_type": "code",
   "execution_count": 5,
   "id": "dfb104aa",
   "metadata": {},
   "outputs": [
    {
     "data": {
      "text/plain": [
       "'r'"
      ]
     },
     "execution_count": 5,
     "metadata": {},
     "output_type": "execute_result"
    }
   ],
   "source": [
    "dataset.mode"
   ]
  },
  {
   "cell_type": "markdown",
   "id": "c4130ef6",
   "metadata": {},
   "source": [
    "### `.closed`"
   ]
  },
  {
   "cell_type": "markdown",
   "id": "6b81265f",
   "metadata": {},
   "source": [
    "The dataset `.closed` function is to test if the dataset is closed. It will return 'False' should the data is opened."
   ]
  },
  {
   "cell_type": "code",
   "execution_count": 6,
   "id": "3c41027a",
   "metadata": {},
   "outputs": [
    {
     "data": {
      "text/plain": [
       "False"
      ]
     },
     "execution_count": 6,
     "metadata": {},
     "output_type": "execute_result"
    }
   ],
   "source": [
    "dataset.closed"
   ]
  },
  {
   "cell_type": "markdown",
   "id": "f2852eca",
   "metadata": {},
   "source": [
    "## Raster dataset attributes"
   ]
  },
  {
   "cell_type": "markdown",
   "id": "e7f4c16a",
   "metadata": {},
   "source": [
    "### `.count` "
   ]
  },
  {
   "cell_type": "markdown",
   "id": "d9f8d39f",
   "metadata": {},
   "source": [
    "Image dataset objects have bands and we can check the number of bands by using `.count` function"
   ]
  },
  {
   "cell_type": "code",
   "execution_count": 7,
   "id": "df1d3681",
   "metadata": {},
   "outputs": [
    {
     "data": {
      "text/plain": [
       "11"
      ]
     },
     "execution_count": 7,
     "metadata": {},
     "output_type": "execute_result"
    }
   ],
   "source": [
    "dataset.count"
   ]
  },
  {
   "cell_type": "markdown",
   "id": "28bd49ef",
   "metadata": {},
   "source": [
    "### `.width` and `.height`"
   ]
  },
  {
   "cell_type": "markdown",
   "id": "923d8aea",
   "metadata": {},
   "source": [
    "The dataset object width and height can be checked using the `.width` and `.height` functions."
   ]
  },
  {
   "cell_type": "code",
   "execution_count": 8,
   "id": "50a87d51",
   "metadata": {},
   "outputs": [
    {
     "name": "stdout",
     "output_type": "stream",
     "text": [
      "3432 2173\n"
     ]
    }
   ],
   "source": [
    "dataset.width\n",
    "dataset.height\n",
    "print(dataset.width, dataset.height)"
   ]
  },
  {
   "cell_type": "markdown",
   "id": "e0150226",
   "metadata": {},
   "source": [
    "### dictionary comprehension `.indexes` and `.dtypes`"
   ]
  },
  {
   "cell_type": "markdown",
   "id": "e421c765",
   "metadata": {},
   "source": [
    "Some dataset attributes returns the attribute properties of all dataset bands through tuple of values; one for each band. To get a mapping of band indexes to variable data types, apply a **dictionary comprehension** to the `zip()` product of the dataset's `indexes` and `dtypes` attribute.\n",
    "   - _dictionary_: a collection which is ordered (as of Python version 3.7), changeable but does not allow duplicated, used to store data values in **key:value** pairs. See [Python Dictionaries]('https://www.w3schools.com/python/python_dictionaries.asp')\n",
    "   - _list & dictionary comprehension_: see [Python Basics: List Comprehensions, Dictionary Comprehensions and Generator Expressions]('https://www.netguru.com/blog/python-list-comprehension-dictionary')"
   ]
  },
  {
   "cell_type": "code",
   "execution_count": 9,
   "id": "d57406be",
   "metadata": {},
   "outputs": [
    {
     "data": {
      "text/plain": [
       "{1: 'uint16',\n",
       " 2: 'uint16',\n",
       " 3: 'uint16',\n",
       " 4: 'uint16',\n",
       " 5: 'uint16',\n",
       " 6: 'uint16',\n",
       " 7: 'uint16',\n",
       " 8: 'uint16',\n",
       " 9: 'uint16',\n",
       " 10: 'uint16',\n",
       " 11: 'uint16'}"
      ]
     },
     "execution_count": 9,
     "metadata": {},
     "output_type": "execute_result"
    }
   ],
   "source": [
    "{i: dtype for i, dtype in zip(dataset.indexes, dataset.dtypes)}"
   ]
  },
  {
   "cell_type": "markdown",
   "id": "c7770ed8",
   "metadata": {},
   "source": [
    "### `.driver`"
   ]
  },
  {
   "cell_type": "markdown",
   "id": "09462a0f",
   "metadata": {},
   "source": [
    "The `.driver` attribute reveals the type of raster format of the raster dataset"
   ]
  },
  {
   "cell_type": "code",
   "execution_count": 38,
   "id": "7a98e896",
   "metadata": {},
   "outputs": [
    {
     "data": {
      "text/plain": [
       "'GTiff'"
      ]
     },
     "execution_count": 38,
     "metadata": {},
     "output_type": "execute_result"
    }
   ],
   "source": [
    "dataset.driver"
   ]
  },
  {
   "cell_type": "markdown",
   "id": "6d4ca589",
   "metadata": {},
   "source": [
    "## Raster data georeferences"
   ]
  },
  {
   "cell_type": "markdown",
   "id": "e15cbbea",
   "metadata": {},
   "source": [
    "### `.bounds`"
   ]
  },
  {
   "cell_type": "markdown",
   "id": "50ecf464",
   "metadata": {},
   "source": [
    "GIS raster dataset is different from typical image file since its pixels or in this Python data context, 'elements' are mapped to regions on the earth surface. Thus, all of these elements are contained within a bounding box.\n",
    "\n",
    "For the raster utilized in this exercise, the return of the `.bounds` function is the values making up the bounding box of the raster; _left, bottom, right, top_. It can be understood as:\n",
    "> - The dataset covers the world from 748410 meters to 782730 meters, left to right. And it covers 333540 meters to 355270 meters, bottoms up.\n",
    "> - Overall, it covers 34320 meters width and  21730 meters height"
   ]
  },
  {
   "cell_type": "code",
   "execution_count": 10,
   "id": "99439901",
   "metadata": {},
   "outputs": [
    {
     "data": {
      "text/plain": [
       "BoundingBox(left=748410.0, bottom=333540.0, right=782730.0, top=355270.0)"
      ]
     },
     "execution_count": 10,
     "metadata": {},
     "output_type": "execute_result"
    }
   ],
   "source": [
    "dataset.bounds"
   ]
  },
  {
   "cell_type": "markdown",
   "id": "37f91391",
   "metadata": {},
   "source": [
    "### `.transform`"
   ]
  },
  {
   "cell_type": "markdown",
   "id": "28a38c04",
   "metadata": {},
   "source": [
    "The `.bounds` attribute originated from `.transform` attribute which is the affine matrix that maps pixel locations in coordinates to spatial locations; (rows and columns to x and y). \n",
    "> - The origin of this matrix (0, 0) is the upper left corner of the dataset; thus so is the spatial position."
   ]
  },
  {
   "cell_type": "code",
   "execution_count": 11,
   "id": "3b7f457b",
   "metadata": {},
   "outputs": [
    {
     "data": {
      "text/plain": [
       "Affine(10.0, 0.0, 748410.0,\n",
       "       0.0, -10.0, 355270.0)"
      ]
     },
     "execution_count": 11,
     "metadata": {},
     "output_type": "execute_result"
    }
   ],
   "source": [
    "dataset.transform"
   ]
  },
  {
   "cell_type": "code",
   "execution_count": 12,
   "id": "fa9639d3",
   "metadata": {},
   "outputs": [
    {
     "data": {
      "text/plain": [
       "(748410.0, 355270.0)"
      ]
     },
     "execution_count": 12,
     "metadata": {},
     "output_type": "execute_result"
    }
   ],
   "source": [
    "# We can find the position of the origin (0, 0); upper left corner of the data\n",
    "dataset.transform * (0, 0)"
   ]
  },
  {
   "cell_type": "code",
   "execution_count": 13,
   "id": "93bddae6",
   "metadata": {},
   "outputs": [
    {
     "data": {
      "text/plain": [
       "(782730.0, 333540.0)"
      ]
     },
     "execution_count": 13,
     "metadata": {},
     "output_type": "execute_result"
    }
   ],
   "source": [
    "# And similarly the extremeties/total extent end; lower right corner\n",
    "dataset.transform * (dataset.width, dataset.height)"
   ]
  },
  {
   "cell_type": "markdown",
   "id": "0e128786",
   "metadata": {},
   "source": [
    "### `.crs`"
   ]
  },
  {
   "cell_type": "markdown",
   "id": "98dfe659",
   "metadata": {},
   "source": [
    "The special attribute to geospatial raster coordinate values are relative to the dataset's coordinate reference system (CRS). These coordinate reference system are in the EPSG format."
   ]
  },
  {
   "cell_type": "code",
   "execution_count": 14,
   "id": "52782d02",
   "metadata": {},
   "outputs": [
    {
     "data": {
      "text/plain": [
       "CRS.from_epsg(32647)"
      ]
     },
     "execution_count": 14,
     "metadata": {},
     "output_type": "execute_result"
    }
   ],
   "source": [
    "dataset.crs"
   ]
  },
  {
   "cell_type": "markdown",
   "id": "0c24f239",
   "metadata": {},
   "source": [
    "## Reading the raster data"
   ]
  },
  {
   "cell_type": "markdown",
   "id": "1e2732f2",
   "metadata": {},
   "source": [
    "### `.indexes`"
   ]
  },
  {
   "cell_type": "markdown",
   "id": "33eb7faa",
   "metadata": {},
   "source": [
    "The bands of a raster image that has been opened can be **accessed** through the bands' index number. \n",
    "- It is to be noted that, bands indexed in the raster image starts from 1\n",
    "- This is a convetion inherited from GDAL"
   ]
  },
  {
   "cell_type": "code",
   "execution_count": 15,
   "id": "a69593d1",
   "metadata": {},
   "outputs": [
    {
     "data": {
      "text/plain": [
       "(1, 2, 3, 4, 5, 6, 7, 8, 9, 10, 11)"
      ]
     },
     "execution_count": 15,
     "metadata": {},
     "output_type": "execute_result"
    }
   ],
   "source": [
    "# This will give full list number of bands contained in the opened image\n",
    "dataset.indexes"
   ]
  },
  {
   "cell_type": "markdown",
   "id": "72e0a205",
   "metadata": {},
   "source": [
    "### `.read()`"
   ]
  },
  {
   "cell_type": "markdown",
   "id": "42cfd8ef",
   "metadata": {},
   "source": [
    "For the opened raster dataset to be used in any operations, it should be read into Python. That can be achieved by implementing the `.read()` method. \n",
    "- The `.read()` method will return a `numpy` N-D array\n",
    "- Any operations that is doable for numpay arrays can be implemented on the arrays that have been read from the raster image dataset"
   ]
  },
  {
   "cell_type": "code",
   "execution_count": 29,
   "id": "d78124c0",
   "metadata": {},
   "outputs": [
    {
     "name": "stdout",
     "output_type": "stream",
     "text": [
      "<class 'numpy.ndarray'> <class 'numpy.ndarray'>\n",
      "(11, 2173, 3432) (2173, 3432)\n"
     ]
    }
   ],
   "source": [
    "# We can read out all the bands in the single image\n",
    "raster_array = dataset.read()\n",
    "\n",
    "# Or we can call them in singles\n",
    "raster_array_b2 = dataset.read(1)\n",
    "\n",
    "# And both will still be an array\n",
    "print(type(raster_array), type(raster_array_b2))\n",
    "\n",
    "# And we can still be look at the shape of both\n",
    "print(raster_array.shape, raster_array_b2.shape)"
   ]
  },
  {
   "cell_type": "code",
   "execution_count": 30,
   "id": "bde2871e",
   "metadata": {},
   "outputs": [
    {
     "data": {
      "text/plain": [
       "array([[[ 710,  744,  694, ...,  348,  344,  367],\n",
       "        [ 703,  786,  691, ...,  357,  357,  365],\n",
       "        [ 728,  738,  672, ...,  360,  357,  351],\n",
       "        ...,\n",
       "        [ 252,  277,  271, ...,  703,  664,  650],\n",
       "        [ 244,  253,  253, ...,  724,  696,  646],\n",
       "        [ 252,  265,  250, ...,  732,  659,  658]],\n",
       "\n",
       "       [[ 856,  835,  889, ...,  543,  569,  581],\n",
       "        [ 894,  899,  867, ...,  558,  593,  561],\n",
       "        [ 871,  907,  816, ...,  546,  586,  533],\n",
       "        ...,\n",
       "        [ 478,  479,  505, ...,  778,  808,  753],\n",
       "        [ 440,  472,  457, ...,  834,  752,  704],\n",
       "        [ 460,  457,  465, ...,  976,  827,  778]],\n",
       "\n",
       "       [[ 431,  421,  448, ...,  349,  354,  360],\n",
       "        [ 451,  481,  459, ...,  373,  368,  360],\n",
       "        [ 430,  489,  436, ...,  371,  391,  368],\n",
       "        ...,\n",
       "        [ 221,  229,  229, ...,  893,  999,  758],\n",
       "        [ 217,  229,  228, ...,  901,  873,  726],\n",
       "        [ 227,  232,  225, ..., 1070,  927,  795]],\n",
       "\n",
       "       ...,\n",
       "\n",
       "       [[ 536,  536,  536, ..., 2787, 2787, 2787],\n",
       "        [ 532,  532,  532, ..., 3065, 3065, 3065],\n",
       "        [ 532,  532,  532, ..., 3065, 3065, 3065],\n",
       "        ...,\n",
       "        [3530, 3530, 3530, ..., 1704, 1704, 1704],\n",
       "        [3530, 3530, 3530, ..., 1704, 1704, 1704],\n",
       "        [3530, 3530, 3530, ..., 1704, 1704, 1704]],\n",
       "\n",
       "       [[ 161,  177,  177, ..., 1834, 1834, 1639],\n",
       "        [ 177,  188,  188, ..., 1864, 1864, 1675],\n",
       "        [ 177,  188,  188, ..., 1864, 1864, 1675],\n",
       "        ...,\n",
       "        [ 974,  982,  982, ..., 1650, 1650, 1659],\n",
       "        [ 874,  866,  866, ..., 1779, 1779, 1489],\n",
       "        [ 874,  866,  866, ..., 1779, 1779, 1489]],\n",
       "\n",
       "       [[ 149,  160,  160, ...,  948,  948,  815],\n",
       "        [ 153,  165,  165, ...,  954,  954,  878],\n",
       "        [ 153,  165,  165, ...,  954,  954,  878],\n",
       "        ...,\n",
       "        [ 372,  376,  376, ..., 1351, 1351, 1316],\n",
       "        [ 336,  338,  338, ..., 1456, 1456, 1244],\n",
       "        [ 336,  338,  338, ..., 1456, 1456, 1244]]], dtype=uint16)"
      ]
     },
     "execution_count": 30,
     "metadata": {},
     "output_type": "execute_result"
    }
   ],
   "source": [
    "# View the elements of raster_array\n",
    "raster_array"
   ]
  },
  {
   "cell_type": "code",
   "execution_count": 31,
   "id": "f9c62709",
   "metadata": {},
   "outputs": [
    {
     "data": {
      "text/plain": [
       "array([[710, 744, 694, ..., 348, 344, 367],\n",
       "       [703, 786, 691, ..., 357, 357, 365],\n",
       "       [728, 738, 672, ..., 360, 357, 351],\n",
       "       ...,\n",
       "       [252, 277, 271, ..., 703, 664, 650],\n",
       "       [244, 253, 253, ..., 724, 696, 646],\n",
       "       [252, 265, 250, ..., 732, 659, 658]], dtype=uint16)"
      ]
     },
     "execution_count": 31,
     "metadata": {},
     "output_type": "execute_result"
    }
   ],
   "source": [
    "# View the elements of raster_array_b2\n",
    "raster_array_b2"
   ]
  },
  {
   "cell_type": "markdown",
   "id": "56ddc1f2",
   "metadata": {},
   "source": [
    "### Band statistics"
   ]
  },
  {
   "cell_type": "markdown",
   "id": "224f4c67",
   "metadata": {},
   "source": [
    "Givent that we can read all the bands in the single image into a 3D-array, we can also calculate the statistics of each band directly using the attributes and the for-loop.\n",
    "> - This will iterate through the data withing the 3D-array, extract the information on the attributes requested and compile them in a single list.\n",
    "> - An empty list needs to be created for this purpose; as often when working with for-loop\n",
    "\n",
    "The attributes that we are interest in is the statistics of **each single band** which are:\n",
    "- `.min()`\n",
    "- `.mean()`\n",
    "- `.median()`\n",
    "- `.max()`\n",
    "\n",
    "**NOTE:** Curly brackets are used to define dictionaries in Python"
   ]
  },
  {
   "cell_type": "code",
   "execution_count": 33,
   "id": "f8467982",
   "metadata": {},
   "outputs": [
    {
     "data": {
      "text/plain": [
       "[{'min': 90, 'median': 717.0, 'max': 16624, 'mean': 763.1122406317413},\n",
       " {'min': 79, 'median': 879.0, 'max': 17520, 'mean': 952.8905765771274},\n",
       " {'min': 1, 'median': 562.0, 'max': 16704, 'mean': 823.1337790718255},\n",
       " {'min': 1, 'median': 901.0, 'max': 15946, 'mean': 1086.367904549048},\n",
       " {'min': 154, 'median': 2039.0, 'max': 15766, 'mean': 1765.5463074852744},\n",
       " {'min': 173, 'median': 2382.0, 'max': 16150, 'mean': 2101.8954705556753},\n",
       " {'min': 141, 'median': 2308.0, 'max': 15352, 'mean': 2037.1858612318806},\n",
       " {'min': 139, 'median': 2529.0, 'max': 15946, 'mean': 2207.8530901335203},\n",
       " {'min': 417, 'median': 2534.0, 'max': 5735, 'mean': 2290.7969063265314},\n",
       " {'min': 99, 'median': 1780.0, 'max': 14344, 'mean': 1648.1553597499294},\n",
       " {'min': 42, 'median': 909.0, 'max': 15149, 'mean': 1188.019502701624}]"
      ]
     },
     "execution_count": 33,
     "metadata": {},
     "output_type": "execute_result"
    }
   ],
   "source": [
    "# The dataset and its bands have already been read as 'raster_array'\n",
    "\n",
    "# Create the empty list to contain the dictionary of information for each bands\n",
    "## We are creating a 'key:value' type of data, so dictionary is the best way to list the statistics of each bands\n",
    "band_stats = []\n",
    "\n",
    "for band in raster_array:\n",
    "    band_stats.append({\n",
    "        'min': band.min(),\n",
    "        'median': np.median(band),\n",
    "        'max': band.max(),\n",
    "        'mean': band.mean()\n",
    "    })\n",
    "\n",
    "# Show the statistics\n",
    "band_stats"
   ]
  },
  {
   "cell_type": "markdown",
   "id": "008b340a",
   "metadata": {},
   "source": [
    "## Spatial indexing values in arrays"
   ]
  },
  {
   "cell_type": "markdown",
   "id": "c905978d",
   "metadata": {},
   "source": [
    "### `.index()`"
   ]
  },
  {
   "cell_type": "markdown",
   "id": "559ffbe8",
   "metadata": {},
   "source": [
    "The `.index()` method is different from `.indexes` attribute. The `.index()` method extracts the array indices that corresponds to the points in the georeferenced space. It is a roundabout way of getting the specific coordinates using the raster image and calling the index on the raster arrays that has been read."
   ]
  },
  {
   "cell_type": "code",
   "execution_count": 37,
   "id": "4c24dddf",
   "metadata": {},
   "outputs": [
    {
     "name": "stdout",
     "output_type": "stream",
     "text": [
      "500 1000 355\n"
     ]
    }
   ],
   "source": [
    "# Obtain the value for pixel 10 km east and 5 km south of dataset upper left corner (origin)\n",
    "\n",
    "## 1 Extract information on the rows and columns aka x and y coordinates\n",
    "x, y = (dataset.bounds.left + 10000, dataset.bounds.top - 5000)\n",
    "row, col = dataset.index(x, y)\n",
    "\n",
    "## 2 Obtain the values at the coordinates extracted; row, col\n",
    "raster_array_b2[row, col]\n",
    "\n",
    "### Let's look at coordinates and pixel extracted\n",
    "print(row, col, raster_array_b2[row, col])"
   ]
  },
  {
   "cell_type": "markdown",
   "id": "f61258f5",
   "metadata": {},
   "source": [
    "### `.xy()`"
   ]
  },
  {
   "cell_type": "markdown",
   "id": "ac4dec7a",
   "metadata": {},
   "source": [
    "The `.xy()` method is used to obtain the value of the pixel at the specific coordinates."
   ]
  },
  {
   "cell_type": "code",
   "execution_count": 34,
   "id": "7e74206d",
   "metadata": {},
   "outputs": [
    {
     "data": {
      "text/plain": [
       "(765575.0, 344405.0)"
      ]
     },
     "execution_count": 34,
     "metadata": {},
     "output_type": "execute_result"
    }
   ],
   "source": [
    "# If we try to obtain the coordinates of the very center of the image\n",
    "dataset.xy(dataset.height // 2, dataset.width // 2)"
   ]
  },
  {
   "cell_type": "markdown",
   "id": "f28082eb",
   "metadata": {},
   "source": [
    "## Opening raster dataset in writing mode"
   ]
  },
  {
   "cell_type": "markdown",
   "id": "0ef22598",
   "metadata": {},
   "source": [
    "### `.open()`"
   ]
  },
  {
   "cell_type": "markdown",
   "id": "fa369de6",
   "metadata": {},
   "source": [
    "To save an image n-d array its georeferencing information into a new raster data, we have to call for the method to create a new raster file. This can be done using the similar method as opening the raster dataset in reading mode. This time, we need to specify that we are going to open it in an editable 'writing' mode which is denoted by the abbreviation `w`.\n",
    "\n",
    "This method also requires a few arguments to generate the new raster dataset:\n",
    "- _driver_: The name of the desired format\n",
    "- _width_: The number of columns in the dataset\n",
    "- _height_: The number of rows in the dataset\n",
    "- _count_: The count of dataset bands\n",
    "- _dtype_: The data type of the dataset\n",
    "- _crs_: The coordinate system in EPSG format to which you want to write the raster as\n",
    "- _transform_: An affine transformation matrix \n",
    "- _nodata_: A 'nodata' value\n",
    "\n",
    "**NOTE:**\n",
    "> The _driver, width, height, count_ and _dtype_ keyword arguments parameters is a fixed format-specific properties of the data file \n",
    "> Meanwhile _coordinate reference system, transform_ and _nodata value_ configuration are optional\n",
    "\n",
    "An example can be seen below where we attempt to create a new raster 'new.tif' with parameters similar to an existing raster called 'raster_array' 3D-array:"
   ]
  },
  {
   "cell_type": "code",
   "execution_count": 51,
   "id": "72ec0afc",
   "metadata": {},
   "outputs": [
    {
     "ename": "CPLE_AppDefinedError",
     "evalue": "Deleting new.tif failed: Permission denied",
     "output_type": "error",
     "traceback": [
      "\u001b[1;31m---------------------------------------------------------------------------\u001b[0m",
      "\u001b[1;31mCPLE_AppDefinedError\u001b[0m                      Traceback (most recent call last)",
      "\u001b[1;32m~\\AppData\\Local\\Temp/ipykernel_10412/3138232179.py\u001b[0m in \u001b[0;36m<module>\u001b[1;34m\u001b[0m\n\u001b[0;32m      1\u001b[0m \u001b[1;31m# Creating new raster\u001b[0m\u001b[1;33m\u001b[0m\u001b[1;33m\u001b[0m\u001b[1;33m\u001b[0m\u001b[0m\n\u001b[1;32m----> 2\u001b[1;33m new_dataset = rio.open('new.tif',\n\u001b[0m\u001b[0;32m      3\u001b[0m                       \u001b[1;34m'w'\u001b[0m\u001b[1;33m,\u001b[0m\u001b[1;33m\u001b[0m\u001b[1;33m\u001b[0m\u001b[0m\n\u001b[0;32m      4\u001b[0m                       \u001b[0mdriver\u001b[0m \u001b[1;33m=\u001b[0m \u001b[1;34m'GTiff'\u001b[0m\u001b[1;33m,\u001b[0m\u001b[1;33m\u001b[0m\u001b[1;33m\u001b[0m\u001b[0m\n\u001b[0;32m      5\u001b[0m                       \u001b[0mheight\u001b[0m \u001b[1;33m=\u001b[0m \u001b[0mraster_array_b2\u001b[0m\u001b[1;33m.\u001b[0m\u001b[0mshape\u001b[0m\u001b[1;33m[\u001b[0m\u001b[1;36m0\u001b[0m\u001b[1;33m]\u001b[0m\u001b[1;33m,\u001b[0m\u001b[1;33m\u001b[0m\u001b[1;33m\u001b[0m\u001b[0m\n",
      "\u001b[1;32m~\\Miniconda3\\envs\\pygeo\\lib\\site-packages\\rasterio\\env.py\u001b[0m in \u001b[0;36mwrapper\u001b[1;34m(*args, **kwds)\u001b[0m\n\u001b[0;32m    435\u001b[0m \u001b[1;33m\u001b[0m\u001b[0m\n\u001b[0;32m    436\u001b[0m         \u001b[1;32mwith\u001b[0m \u001b[0menv_ctor\u001b[0m\u001b[1;33m(\u001b[0m\u001b[0msession\u001b[0m\u001b[1;33m=\u001b[0m\u001b[0msession\u001b[0m\u001b[1;33m)\u001b[0m\u001b[1;33m:\u001b[0m\u001b[1;33m\u001b[0m\u001b[1;33m\u001b[0m\u001b[0m\n\u001b[1;32m--> 437\u001b[1;33m             \u001b[1;32mreturn\u001b[0m \u001b[0mf\u001b[0m\u001b[1;33m(\u001b[0m\u001b[1;33m*\u001b[0m\u001b[0margs\u001b[0m\u001b[1;33m,\u001b[0m \u001b[1;33m**\u001b[0m\u001b[0mkwds\u001b[0m\u001b[1;33m)\u001b[0m\u001b[1;33m\u001b[0m\u001b[1;33m\u001b[0m\u001b[0m\n\u001b[0m\u001b[0;32m    438\u001b[0m \u001b[1;33m\u001b[0m\u001b[0m\n\u001b[0;32m    439\u001b[0m     \u001b[1;32mreturn\u001b[0m \u001b[0mwrapper\u001b[0m\u001b[1;33m\u001b[0m\u001b[1;33m\u001b[0m\u001b[0m\n",
      "\u001b[1;32m~\\Miniconda3\\envs\\pygeo\\lib\\site-packages\\rasterio\\__init__.py\u001b[0m in \u001b[0;36mopen\u001b[1;34m(fp, mode, driver, width, height, count, crs, transform, dtype, nodata, sharing, **kwargs)\u001b[0m\n\u001b[0;32m    228\u001b[0m             \u001b[0mwriter\u001b[0m \u001b[1;33m=\u001b[0m \u001b[0mget_writer_for_driver\u001b[0m\u001b[1;33m(\u001b[0m\u001b[0mdriver\u001b[0m\u001b[1;33m)\u001b[0m\u001b[1;33m\u001b[0m\u001b[1;33m\u001b[0m\u001b[0m\n\u001b[0;32m    229\u001b[0m             \u001b[1;32mif\u001b[0m \u001b[0mwriter\u001b[0m \u001b[1;32mis\u001b[0m \u001b[1;32mnot\u001b[0m \u001b[1;32mNone\u001b[0m\u001b[1;33m:\u001b[0m\u001b[1;33m\u001b[0m\u001b[1;33m\u001b[0m\u001b[0m\n\u001b[1;32m--> 230\u001b[1;33m                 s = writer(path, mode, driver=driver,\n\u001b[0m\u001b[0;32m    231\u001b[0m                            \u001b[0mwidth\u001b[0m\u001b[1;33m=\u001b[0m\u001b[0mwidth\u001b[0m\u001b[1;33m,\u001b[0m \u001b[0mheight\u001b[0m\u001b[1;33m=\u001b[0m\u001b[0mheight\u001b[0m\u001b[1;33m,\u001b[0m\u001b[1;33m\u001b[0m\u001b[1;33m\u001b[0m\u001b[0m\n\u001b[0;32m    232\u001b[0m                            \u001b[0mcount\u001b[0m\u001b[1;33m=\u001b[0m\u001b[0mcount\u001b[0m\u001b[1;33m,\u001b[0m \u001b[0mcrs\u001b[0m\u001b[1;33m=\u001b[0m\u001b[0mcrs\u001b[0m\u001b[1;33m,\u001b[0m\u001b[1;33m\u001b[0m\u001b[1;33m\u001b[0m\u001b[0m\n",
      "\u001b[1;32mrasterio\\_io.pyx\u001b[0m in \u001b[0;36mrasterio._io.DatasetWriterBase.__init__\u001b[1;34m()\u001b[0m\n",
      "\u001b[1;32mrasterio\\_io.pyx\u001b[0m in \u001b[0;36mrasterio._io._delete_dataset_if_exists\u001b[1;34m()\u001b[0m\n",
      "\u001b[1;32mrasterio\\_err.pyx\u001b[0m in \u001b[0;36mrasterio._err.exc_wrap_int\u001b[1;34m()\u001b[0m\n",
      "\u001b[1;31mCPLE_AppDefinedError\u001b[0m: Deleting new.tif failed: Permission denied"
     ]
    }
   ],
   "source": [
    "# Creating new raster\n",
    "new_dataset = rio.open('new.tif',\n",
    "                      'w',\n",
    "                      driver = 'GTiff',\n",
    "                      height = raster_array_b2.shape[0],\n",
    "                      width = raster_array_b2.shape[1],\n",
    "                      count = 1,\n",
    "                      dtype = raster_array_b2.dtype,\n",
    "                      crs = 'proj=latlong',  # CRS of an equirectangular coordinate reference system with unit decimal degress\n",
    "                      transform=dataset.transform)"
   ]
  },
  {
   "cell_type": "markdown",
   "id": "a886974e",
   "metadata": {},
   "source": [
    "## Saving the raster dataset"
   ]
  },
  {
   "cell_type": "markdown",
   "id": "9b00261c",
   "metadata": {},
   "source": [
    "### `.write()`"
   ]
  },
  {
   "cell_type": "markdown",
   "id": "9e04d870",
   "metadata": {},
   "source": [
    "Call the new dataset `.write()` method to copy the grid into the newly opened dataset with the grid and target band number as arguments."
   ]
  },
  {
   "cell_type": "code",
   "execution_count": 49,
   "id": "38af29d1",
   "metadata": {},
   "outputs": [],
   "source": [
    "new_dataset.write(raster_array_b2, 1)"
   ]
  },
  {
   "cell_type": "markdown",
   "id": "171ae8e1",
   "metadata": {},
   "source": [
    "### `.close()`"
   ]
  },
  {
   "cell_type": "markdown",
   "id": "1c670dc6",
   "metadata": {},
   "source": [
    "After writing the grid and information of the new dataset into the newly created 'new.tif' raster, we need to call upon the `.close()` method to sync the data to the disk and finish"
   ]
  },
  {
   "cell_type": "code",
   "execution_count": 52,
   "id": "7da8580f",
   "metadata": {},
   "outputs": [],
   "source": [
    "new_dataset.close()"
   ]
  },
  {
   "cell_type": "code",
   "execution_count": 53,
   "id": "79a1ab7a",
   "metadata": {},
   "outputs": [],
   "source": [
    "# To simplify the process above and include the writing of the new raster, you ca implement context manager protocol\n",
    "\n",
    "with rio.open('new.tif',\n",
    "             'w', \n",
    "              driver = 'GTiff',\n",
    "              height = raster_array_b2.shape[0],\n",
    "              width = raster_array_b2.shape[1],\n",
    "              count = 1,\n",
    "              dtype = raster_array_b2.dtype,\n",
    "              crs = 'proj=latlong',  # CRS of an equirectangular coordinate reference system with unit decimal degress\n",
    "              transform=dataset.transform\n",
    ") as dst:\n",
    "    dst.write(raster_array_b2, 1)"
   ]
  }
 ],
 "metadata": {
  "kernelspec": {
   "display_name": "Python 3 (ipykernel)",
   "language": "python",
   "name": "python3"
  },
  "language_info": {
   "codemirror_mode": {
    "name": "ipython",
    "version": 3
   },
   "file_extension": ".py",
   "mimetype": "text/x-python",
   "name": "python",
   "nbconvert_exporter": "python",
   "pygments_lexer": "ipython3",
   "version": "3.9.5"
  }
 },
 "nbformat": 4,
 "nbformat_minor": 5
}
